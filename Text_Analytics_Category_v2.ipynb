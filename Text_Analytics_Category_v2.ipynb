{
  "nbformat": 4,
  "nbformat_minor": 0,
  "metadata": {
    "accelerator": "GPU",
    "colab": {
      "name": "Category v2.ipynb",
      "provenance": [],
      "include_colab_link": true
    },
    "kernelspec": {
      "display_name": "Python 3",
      "language": "python",
      "name": "python3"
    },
    "language_info": {
      "codemirror_mode": {
        "name": "ipython",
        "version": 3
      },
      "file_extension": ".py",
      "mimetype": "text/x-python",
      "name": "python",
      "nbconvert_exporter": "python",
      "pygments_lexer": "ipython3",
      "version": "3.7.4"
    }
  },
  "cells": [
    {
      "cell_type": "markdown",
      "metadata": {
        "id": "view-in-github",
        "colab_type": "text"
      },
      "source": [
        "<a href=\"https://colab.research.google.com/github/AishJo/Repository1/blob/master/Text_Analytics_Category_v2.ipynb\" target=\"_parent\"><img src=\"https://colab.research.google.com/assets/colab-badge.svg\" alt=\"Open In Colab\"/></a>"
      ]
    },
    {
      "cell_type": "code",
      "metadata": {
        "id": "sf87aEB63ZLr",
        "colab_type": "code",
        "colab": {
          "base_uri": "https://localhost:8080/",
          "height": 55
        },
        "outputId": "13368ff1-d3e8-4c6d-fad9-605525fe2faf"
      },
      "source": [
        "from google.colab import drive\n",
        "drive.mount('/content/drive')"
      ],
      "execution_count": 2,
      "outputs": [
        {
          "output_type": "stream",
          "text": [
            "Drive already mounted at /content/drive; to attempt to forcibly remount, call drive.mount(\"/content/drive\", force_remount=True).\n"
          ],
          "name": "stdout"
        }
      ]
    },
    {
      "cell_type": "code",
      "metadata": {
        "colab_type": "code",
        "id": "vvLHOmMukGGN",
        "colab": {}
      },
      "source": [
        "#from google.colab import drive\n",
        "#drive.mount('/content/drive')"
      ],
      "execution_count": 0,
      "outputs": []
    },
    {
      "cell_type": "code",
      "metadata": {
        "colab_type": "code",
        "id": "4Pxdph9JB-dG",
        "outputId": "adfa1709-217b-40f4-901c-65fb272463c5",
        "colab": {
          "base_uri": "https://localhost:8080/",
          "height": 245
        }
      },
      "source": [
        "!pip install -U imbalanced-learn"
      ],
      "execution_count": 3,
      "outputs": [
        {
          "output_type": "stream",
          "text": [
            "Collecting imbalanced-learn\n",
            "\u001b[?25l  Downloading https://files.pythonhosted.org/packages/c8/73/36a13185c2acff44d601dc6107b5347e075561a49e15ddd4e69988414c3e/imbalanced_learn-0.6.2-py3-none-any.whl (163kB)\n",
            "\r\u001b[K     |██                              | 10kB 24.4MB/s eta 0:00:01\r\u001b[K     |████                            | 20kB 3.1MB/s eta 0:00:01\r\u001b[K     |██████                          | 30kB 4.5MB/s eta 0:00:01\r\u001b[K     |████████                        | 40kB 3.0MB/s eta 0:00:01\r\u001b[K     |██████████                      | 51kB 3.7MB/s eta 0:00:01\r\u001b[K     |████████████                    | 61kB 4.4MB/s eta 0:00:01\r\u001b[K     |██████████████                  | 71kB 5.0MB/s eta 0:00:01\r\u001b[K     |████████████████                | 81kB 3.9MB/s eta 0:00:01\r\u001b[K     |██████████████████              | 92kB 4.4MB/s eta 0:00:01\r\u001b[K     |████████████████████            | 102kB 4.9MB/s eta 0:00:01\r\u001b[K     |██████████████████████          | 112kB 4.9MB/s eta 0:00:01\r\u001b[K     |████████████████████████▏       | 122kB 4.9MB/s eta 0:00:01\r\u001b[K     |██████████████████████████▏     | 133kB 4.9MB/s eta 0:00:01\r\u001b[K     |████████████████████████████▏   | 143kB 4.9MB/s eta 0:00:01\r\u001b[K     |██████████████████████████████▏ | 153kB 4.9MB/s eta 0:00:01\r\u001b[K     |████████████████████████████████| 163kB 4.9MB/s \n",
            "\u001b[?25hRequirement already satisfied, skipping upgrade: joblib>=0.11 in /usr/local/lib/python3.6/dist-packages (from imbalanced-learn) (0.14.1)\n",
            "Requirement already satisfied, skipping upgrade: scipy>=0.17 in /usr/local/lib/python3.6/dist-packages (from imbalanced-learn) (1.4.1)\n",
            "Requirement already satisfied, skipping upgrade: numpy>=1.11 in /usr/local/lib/python3.6/dist-packages (from imbalanced-learn) (1.18.3)\n",
            "Requirement already satisfied, skipping upgrade: scikit-learn>=0.22 in /usr/local/lib/python3.6/dist-packages (from imbalanced-learn) (0.22.2.post1)\n",
            "Installing collected packages: imbalanced-learn\n",
            "  Found existing installation: imbalanced-learn 0.4.3\n",
            "    Uninstalling imbalanced-learn-0.4.3:\n",
            "      Successfully uninstalled imbalanced-learn-0.4.3\n",
            "Successfully installed imbalanced-learn-0.6.2\n"
          ],
          "name": "stdout"
        }
      ]
    },
    {
      "cell_type": "code",
      "metadata": {
        "colab_type": "code",
        "id": "OZMWoVO4kknG",
        "outputId": "1e5a3781-2fbe-4e0f-c28d-05809723e1b2",
        "colab": {
          "base_uri": "https://localhost:8080/",
          "height": 35
        }
      },
      "source": [
        "import pandas as pd\n",
        "import numpy as np\n",
        "from keras.preprocessing.text import Tokenizer\n",
        "from keras.preprocessing.sequence import pad_sequences\n",
        "from keras.preprocessing.sequence import pad_sequences\n",
        "from keras.models import Model, Sequential \n",
        "from keras.layers import Input\n",
        "from keras.layers import Dense, Input, Reshape\n",
        "from keras.layers import Dropout, Activation\n",
        "from keras.layers import Dense, GlobalAveragePooling1D, Activation\n",
        "from keras.layers import Flatten\n",
        "from keras.layers import Dropout\n",
        "from keras.layers import LSTM\n",
        "from keras.layers import Embedding\n",
        "import keras.backend as K \n",
        "from imblearn.combine import SMOTETomek\n",
        "from sklearn.model_selection import train_test_split\n",
        "from keras.optimizers import Adam\n",
        "from keras.layers.convolutional import Conv1D\n",
        "from keras.layers.merge import concatenate\n",
        "from keras.layers.convolutional import MaxPooling1D\n",
        "from sklearn.feature_extraction.text import TfidfVectorizer\n",
        "from gensim.models.phrases import Phraser, Phrases"
      ],
      "execution_count": 4,
      "outputs": [
        {
          "output_type": "stream",
          "text": [
            "Using TensorFlow backend.\n"
          ],
          "name": "stderr"
        }
      ]
    },
    {
      "cell_type": "code",
      "metadata": {
        "colab_type": "code",
        "id": "1J88vxQgkvZY",
        "outputId": "58e90a11-9042-4d22-8230-d0d67c4cce3d",
        "colab": {
          "base_uri": "https://localhost:8080/",
          "height": 52
        }
      },
      "source": [
        "%%time\n",
        "# reading the data\n",
        "df = pd.read_csv('/content/drive/Shared drives/DSO 560 NLP Project/data.csv')\n",
        "# creating a subset of the relevant attribute name and then dropping the column\n",
        "df = df[df['attribute_name'] == 'category'].drop(columns = ['attribute_name'])\n",
        "# combining similar category attribute values and removing spaces\n",
        "df['attribute_value'] = df['attribute_value'].apply(lambda x: 'sweatshirthoodie' if x == 'sweatshirt hoodie' else x)\n",
        "df['attribute_value'] = df['attribute_value'].apply(lambda x: 'blazerscoatsjackets' if x == 'blazer , coat jacket' else x)"
      ],
      "execution_count": 5,
      "outputs": [
        {
          "output_type": "stream",
          "text": [
            "CPU times: user 408 ms, sys: 77.9 ms, total: 486 ms\n",
            "Wall time: 1.13 s\n"
          ],
          "name": "stdout"
        }
      ]
    },
    {
      "cell_type": "code",
      "metadata": {
        "colab_type": "code",
        "id": "vyu18_culshy",
        "outputId": "a2e90214-0bc7-4244-9b32-0f05c47b8a6b",
        "colab": {
          "base_uri": "https://localhost:8080/",
          "height": 569
        }
      },
      "source": [
        "df.head()"
      ],
      "execution_count": 6,
      "outputs": [
        {
          "output_type": "execute_result",
          "data": {
            "text/html": [
              "<div>\n",
              "<style scoped>\n",
              "    .dataframe tbody tr th:only-of-type {\n",
              "        vertical-align: middle;\n",
              "    }\n",
              "\n",
              "    .dataframe tbody tr th {\n",
              "        vertical-align: top;\n",
              "    }\n",
              "\n",
              "    .dataframe thead th {\n",
              "        text-align: right;\n",
              "    }\n",
              "</style>\n",
              "<table border=\"1\" class=\"dataframe\">\n",
              "  <thead>\n",
              "    <tr style=\"text-align: right;\">\n",
              "      <th></th>\n",
              "      <th>product_id</th>\n",
              "      <th>brand</th>\n",
              "      <th>product_full_name</th>\n",
              "      <th>description</th>\n",
              "      <th>brand_category</th>\n",
              "      <th>attribute_value</th>\n",
              "      <th>details</th>\n",
              "    </tr>\n",
              "  </thead>\n",
              "  <tbody>\n",
              "    <tr>\n",
              "      <th>3</th>\n",
              "      <td>01DVCVGDJQC4J8JJ35PKZ4J169</td>\n",
              "      <td>loewe</td>\n",
              "      <td>hammock small textured leather shoulder bag</td>\n",
              "      <td>black textured leather calf hook fasten open w...</td>\n",
              "      <td>bag tote bag tote bag</td>\n",
              "      <td>accessory</td>\n",
              "      <td>item 's measurement depth 14 cm height 23 cm m...</td>\n",
              "    </tr>\n",
              "    <tr>\n",
              "      <th>32</th>\n",
              "      <td>01DPGSTG4M1RXB26QMMN0MPPB8</td>\n",
              "      <td>j crew</td>\n",
              "      <td>mockneck sweater supersoft yarn</td>\n",
              "      <td>cozy flattering mockneck sweater feel good loo...</td>\n",
              "      <td>sweater</td>\n",
              "      <td>sweater</td>\n",
              "      <td>NaN</td>\n",
              "    </tr>\n",
              "    <tr>\n",
              "      <th>36</th>\n",
              "      <td>01E2KKRH99SZ1PTR2E2ABVYJ5S</td>\n",
              "      <td>alo</td>\n",
              "      <td>vapor high waist legging</td>\n",
              "      <td>signature lift fabric moisture wicking technol...</td>\n",
              "      <td>unknown</td>\n",
              "      <td>NaN</td>\n",
              "      <td>xxs 00 0 , xs 0 2 , s 4 6 , m 8 10 , l 12 14 ,...</td>\n",
              "    </tr>\n",
              "    <tr>\n",
              "      <th>50</th>\n",
              "      <td>01E2M1MYJ1FYVHG2AMXHDMNQSP</td>\n",
              "      <td>alo</td>\n",
              "      <td>prism high waist capris</td>\n",
              "      <td>high waistband help flat figure moisture wicki...</td>\n",
              "      <td>unknown</td>\n",
              "      <td>NaN</td>\n",
              "      <td>xxs 00 , xs 0 2 , s 4 6 , m 8 10 , l 12 14 hig...</td>\n",
              "    </tr>\n",
              "    <tr>\n",
              "      <th>52</th>\n",
              "      <td>01E2KZ8BZF6M1XCHBZGEX3AF78</td>\n",
              "      <td>alo</td>\n",
              "      <td>cover tank</td>\n",
              "      <td>hard earn abs supersoft faux wrap tank 's crop...</td>\n",
              "      <td>unknown</td>\n",
              "      <td>NaN</td>\n",
              "      <td>xxs 00 0 , xs 0 2 , s 4 6 , m 8 10 , l 12 14 ,...</td>\n",
              "    </tr>\n",
              "  </tbody>\n",
              "</table>\n",
              "</div>"
            ],
            "text/plain": [
              "                    product_id  ...                                            details\n",
              "3   01DVCVGDJQC4J8JJ35PKZ4J169  ...  item 's measurement depth 14 cm height 23 cm m...\n",
              "32  01DPGSTG4M1RXB26QMMN0MPPB8  ...                                                NaN\n",
              "36  01E2KKRH99SZ1PTR2E2ABVYJ5S  ...  xxs 00 0 , xs 0 2 , s 4 6 , m 8 10 , l 12 14 ,...\n",
              "50  01E2M1MYJ1FYVHG2AMXHDMNQSP  ...  xxs 00 , xs 0 2 , s 4 6 , m 8 10 , l 12 14 hig...\n",
              "52  01E2KZ8BZF6M1XCHBZGEX3AF78  ...  xxs 00 0 , xs 0 2 , s 4 6 , m 8 10 , l 12 14 ,...\n",
              "\n",
              "[5 rows x 7 columns]"
            ]
          },
          "metadata": {
            "tags": []
          },
          "execution_count": 6
        }
      ]
    },
    {
      "cell_type": "code",
      "metadata": {
        "colab_type": "code",
        "id": "4KCfa3CVn9nY",
        "colab": {}
      },
      "source": [
        "# creating a feature combining brand, productname, description and brand category\n",
        "df['text'] = (df['brand'] + ' ' + df['product_full_name'] + ' ' + df['description'] + ' ' + df['brand_category']).apply(str)"
      ],
      "execution_count": 0,
      "outputs": []
    },
    {
      "cell_type": "code",
      "metadata": {
        "colab_type": "code",
        "id": "WMi2ULgelhFo",
        "colab": {}
      },
      "source": [
        "# the predictor 'text' is assigned to 'X' and the 'attribute_value' t 'y'\n",
        "X = df['text'].values\n",
        "# one-hot-encoding the y variable\n",
        "y = pd.get_dummies(df['attribute_value']).values"
      ],
      "execution_count": 0,
      "outputs": []
    },
    {
      "cell_type": "code",
      "metadata": {
        "colab_type": "code",
        "id": "0YFmF01NwQGo",
        "colab": {}
      },
      "source": [
        "# creating a function to create uni-grams and tokenizing data\n",
        "def encode_1gram(X, mode = 'binary'):\n",
        "    tokenizer = Tokenizer(num_words=500)\n",
        "    tokenizer.fit_on_texts(X)\n",
        "    length = max([len(s.split()) for s in df['text']])\n",
        "    X = tokenizer.texts_to_matrix(X)\n",
        "    X = pad_sequences(X, maxlen=length, padding='post')\n",
        "    vocab_size = len(tokenizer.word_index) + 1\n",
        "    return X, length, vocab_size"
      ],
      "execution_count": 0,
      "outputs": []
    },
    {
      "cell_type": "code",
      "metadata": {
        "colab_type": "code",
        "id": "5oETme721eAP",
        "colab": {}
      },
      "source": [
        "# creating a function to create bi-grams and tokenizing data\n",
        "def encode_2gram(X, mode='binary'):\n",
        "    phrases = Phrases(X, min_count=30)\n",
        "    bigrams = Phraser(phrases)\n",
        "    X = list(bigrams[X])\n",
        "\n",
        "    tokenizer = Tokenizer(num_words=500)\n",
        "    tokenizer.fit_on_texts(X)\n",
        "    length = max([len(s.split()) for s in df['text']])\n",
        "    X = tokenizer.texts_to_matrix(X)\n",
        "    X = pad_sequences(X, maxlen=length, padding='post')\n",
        "    vocab_size = len(tokenizer.word_index) + 1\n",
        "    return X, length, vocab_size"
      ],
      "execution_count": 0,
      "outputs": []
    },
    {
      "cell_type": "code",
      "metadata": {
        "colab_type": "code",
        "id": "30eS_YrlwyL9",
        "outputId": "1bcc7052-b55d-44a3-cd9f-79180aa395c1",
        "colab": {
          "base_uri": "https://localhost:8080/",
          "height": 35
        }
      },
      "source": [
        "Tokenizer()"
      ],
      "execution_count": 11,
      "outputs": [
        {
          "output_type": "execute_result",
          "data": {
            "text/plain": [
              "<keras_preprocessing.text.Tokenizer at 0x7fa060d94978>"
            ]
          },
          "metadata": {
            "tags": []
          },
          "execution_count": 11
        }
      ]
    },
    {
      "cell_type": "code",
      "metadata": {
        "colab_type": "code",
        "id": "6oEaE9mamM7X",
        "colab": {}
      },
      "source": [
        "# creating tf-idf vectors from uni-gram encoding\n",
        "X1, length1, vocab_size1 = encode_1gram(X, mode = 'tfidf')"
      ],
      "execution_count": 0,
      "outputs": []
    },
    {
      "cell_type": "code",
      "metadata": {
        "colab_type": "code",
        "id": "YGFzNuUUxWmZ",
        "colab": {}
      },
      "source": [
        "# creating tf-idf vectors from bi-gram encoding\n",
        "X2, length2, vocab_size2 = encode_2gram(X, mode = 'tfidf')"
      ],
      "execution_count": 0,
      "outputs": []
    },
    {
      "cell_type": "code",
      "metadata": {
        "colab_type": "code",
        "id": "hJpzT_ygA7Pw",
        "outputId": "b26cb0ff-5255-4763-e75a-1b08ff6edbae",
        "colab": {
          "base_uri": "https://localhost:8080/",
          "height": 35
        }
      },
      "source": [
        "X1.shape"
      ],
      "execution_count": 14,
      "outputs": [
        {
          "output_type": "execute_result",
          "data": {
            "text/plain": [
              "(4194, 155)"
            ]
          },
          "metadata": {
            "tags": []
          },
          "execution_count": 14
        }
      ]
    },
    {
      "cell_type": "code",
      "metadata": {
        "colab_type": "code",
        "id": "yf8Gl0NGA1HV",
        "colab": {}
      },
      "source": [
        "# concatenating uni-gram and bi-gram\n",
        "X = np.concatenate([X1, X2], axis = 1)"
      ],
      "execution_count": 0,
      "outputs": []
    },
    {
      "cell_type": "code",
      "metadata": {
        "colab_type": "code",
        "id": "Ae88zjZ9CZye",
        "colab": {}
      },
      "source": [
        "# splitting data into training and test\n",
        "X_train, X_test, y_train, y_test = train_test_split(X, y, test_size = 0.1, random_state = 42)"
      ],
      "execution_count": 0,
      "outputs": []
    },
    {
      "cell_type": "code",
      "metadata": {
        "colab_type": "code",
        "id": "VDwRtJkSBvxp",
        "colab": {}
      },
      "source": [
        "# balancing the sample sets as the proportion of labels is unbalanced\n",
        "resampler = SMOTETomek(sampling_strategy = 'auto')\n",
        "X_train, y_train = resampler.fit_resample(X_train, y_train)"
      ],
      "execution_count": 0,
      "outputs": []
    },
    {
      "cell_type": "code",
      "metadata": {
        "colab_type": "code",
        "id": "XNTeR6ZRoxcL",
        "colab": {}
      },
      "source": [
        "num_classes = y.shape[1]"
      ],
      "execution_count": 0,
      "outputs": []
    },
    {
      "cell_type": "code",
      "metadata": {
        "colab_type": "code",
        "id": "-xgZ_gpen5wR",
        "colab": {}
      },
      "source": [
        "# defining LSTM model with sigmoid activation functions for prediction\n",
        "def define_model():\n",
        "    inputs = Input(shape=(length1+length2,))\n",
        "    embedding = Embedding(input_dim=vocab_size1, output_dim=100)(inputs)\n",
        "\n",
        "    x = LSTM(16, return_sequences=True, dropout=0.2, recurrent_dropout=0.15)(embedding)\n",
        "\n",
        "    x = Conv1D(filters=num_classes, kernel_size=1, padding='valid')(x)\n",
        "    x = Conv1D(filters=num_classes, kernel_size=310, padding='valid')(x)\n",
        "    x = Reshape((num_classes,))(x)\n",
        "    out = Activation('sigmoid')(x)\n",
        "\n",
        "    model = Model(inputs = [inputs], outputs = out)\n",
        "\n",
        "    model.compile(loss='binary_crossentropy', optimizer='adam', metrics=['accuracy'])\n",
        "\n",
        "    return model"
      ],
      "execution_count": 0,
      "outputs": []
    },
    {
      "cell_type": "code",
      "metadata": {
        "colab_type": "code",
        "id": "WtVkDeU4pOFw",
        "outputId": "617993f9-edff-46f6-cb10-34463fe8ca14",
        "colab": {
          "base_uri": "https://localhost:8080/",
          "height": 399
        }
      },
      "source": [
        "model = define_model()\n",
        "model.summary()"
      ],
      "execution_count": 20,
      "outputs": [
        {
          "output_type": "stream",
          "text": [
            "Model: \"model_1\"\n",
            "_________________________________________________________________\n",
            "Layer (type)                 Output Shape              Param #   \n",
            "=================================================================\n",
            "input_1 (InputLayer)         (None, 310)               0         \n",
            "_________________________________________________________________\n",
            "embedding_1 (Embedding)      (None, 310, 100)          615000    \n",
            "_________________________________________________________________\n",
            "lstm_1 (LSTM)                (None, 310, 16)           7488      \n",
            "_________________________________________________________________\n",
            "conv1d_1 (Conv1D)            (None, 310, 7)            119       \n",
            "_________________________________________________________________\n",
            "conv1d_2 (Conv1D)            (None, 1, 7)              15197     \n",
            "_________________________________________________________________\n",
            "reshape_1 (Reshape)          (None, 7)                 0         \n",
            "_________________________________________________________________\n",
            "activation_1 (Activation)    (None, 7)                 0         \n",
            "=================================================================\n",
            "Total params: 637,804\n",
            "Trainable params: 637,804\n",
            "Non-trainable params: 0\n",
            "_________________________________________________________________\n"
          ],
          "name": "stdout"
        }
      ]
    },
    {
      "cell_type": "code",
      "metadata": {
        "colab_type": "code",
        "id": "wfeN4H1XpRvM",
        "outputId": "82c43a4e-cbe7-47e3-93bc-ca59da44d9b6",
        "colab": {
          "base_uri": "https://localhost:8080/",
          "height": 453
        }
      },
      "source": [
        "# fitting data onto model\n",
        "model.fit(X_train, y_train, validation_split=0.2, epochs=10, batch_size=512)"
      ],
      "execution_count": 21,
      "outputs": [
        {
          "output_type": "stream",
          "text": [
            "/usr/local/lib/python3.6/dist-packages/tensorflow/python/framework/indexed_slices.py:434: UserWarning: Converting sparse IndexedSlices to a dense Tensor of unknown shape. This may consume a large amount of memory.\n",
            "  \"Converting sparse IndexedSlices to a dense Tensor of unknown shape. \"\n"
          ],
          "name": "stderr"
        },
        {
          "output_type": "stream",
          "text": [
            "Train on 11143 samples, validate on 2786 samples\n",
            "Epoch 1/10\n",
            "11143/11143 [==============================] - 20s 2ms/step - loss: 0.4777 - accuracy: 0.8234 - val_loss: 0.6970 - val_accuracy: 0.8571\n",
            "Epoch 2/10\n",
            "11143/11143 [==============================] - 13s 1ms/step - loss: 0.3953 - accuracy: 0.8571 - val_loss: 0.7205 - val_accuracy: 0.8571\n",
            "Epoch 3/10\n",
            "11143/11143 [==============================] - 14s 1ms/step - loss: 0.3912 - accuracy: 0.8571 - val_loss: 0.6997 - val_accuracy: 0.8571\n",
            "Epoch 4/10\n",
            "11143/11143 [==============================] - 13s 1ms/step - loss: 0.3907 - accuracy: 0.8571 - val_loss: 0.7024 - val_accuracy: 0.8571\n",
            "Epoch 5/10\n",
            "11143/11143 [==============================] - 13s 1ms/step - loss: 0.3905 - accuracy: 0.8571 - val_loss: 0.6854 - val_accuracy: 0.8571\n",
            "Epoch 6/10\n",
            "11143/11143 [==============================] - 13s 1ms/step - loss: 0.3902 - accuracy: 0.8571 - val_loss: 0.6957 - val_accuracy: 0.8571\n",
            "Epoch 7/10\n",
            "11143/11143 [==============================] - 13s 1ms/step - loss: 0.3897 - accuracy: 0.8571 - val_loss: 0.7034 - val_accuracy: 0.8571\n",
            "Epoch 8/10\n",
            "11143/11143 [==============================] - 13s 1ms/step - loss: 0.3887 - accuracy: 0.8571 - val_loss: 0.6920 - val_accuracy: 0.8571\n",
            "Epoch 9/10\n",
            "11143/11143 [==============================] - 13s 1ms/step - loss: 0.3859 - accuracy: 0.8571 - val_loss: 0.6858 - val_accuracy: 0.8571\n",
            "Epoch 10/10\n",
            "11143/11143 [==============================] - 13s 1ms/step - loss: 0.3772 - accuracy: 0.8574 - val_loss: 0.6983 - val_accuracy: 0.8564\n"
          ],
          "name": "stdout"
        },
        {
          "output_type": "execute_result",
          "data": {
            "text/plain": [
              "<keras.callbacks.callbacks.History at 0x7fa06138f4a8>"
            ]
          },
          "metadata": {
            "tags": []
          },
          "execution_count": 21
        }
      ]
    },
    {
      "cell_type": "code",
      "metadata": {
        "colab_type": "code",
        "id": "RH0rgY1WChE4",
        "outputId": "f84c83f3-dac8-4043-ff58-1da5ffd72cdf",
        "colab": {
          "base_uri": "https://localhost:8080/",
          "height": 52
        }
      },
      "source": [
        "# evaluating model\n",
        "model.evaluate(X_test, y_test)"
      ],
      "execution_count": 22,
      "outputs": [
        {
          "output_type": "stream",
          "text": [
            "420/420 [==============================] - 1s 2ms/step\n"
          ],
          "name": "stdout"
        },
        {
          "output_type": "execute_result",
          "data": {
            "text/plain": [
              "[0.30307326316833494, 0.914625883102417]"
            ]
          },
          "metadata": {
            "tags": []
          },
          "execution_count": 22
        }
      ]
    },
    {
      "cell_type": "code",
      "metadata": {
        "colab_type": "code",
        "id": "ythmDKKlpjsc",
        "outputId": "4ed508d1-ad97-4c71-a22b-65037dd267ed",
        "colab": {
          "base_uri": "https://localhost:8080/",
          "height": 121
        }
      },
      "source": [
        "# #predictions for each class from predicting model\n",
        "pd.Series(model.predict(X).argmax(axis = -1)).value_counts()"
      ],
      "execution_count": 23,
      "outputs": [
        {
          "output_type": "execute_result",
          "data": {
            "text/plain": [
              "3    1435\n",
              "0    1397\n",
              "4     697\n",
              "1     366\n",
              "2     299\n",
              "dtype: int64"
            ]
          },
          "metadata": {
            "tags": []
          },
          "execution_count": 23
        }
      ]
    },
    {
      "cell_type": "code",
      "metadata": {
        "colab_type": "code",
        "id": "Xjn1GCho_snJ",
        "outputId": "57d0cd64-01d6-448f-ce34-cf355e734c79",
        "colab": {
          "base_uri": "https://localhost:8080/",
          "height": 243
        }
      },
      "source": [
        "# probability of predicting each class for various records\n",
        "model.predict(X)"
      ],
      "execution_count": 24,
      "outputs": [
        {
          "output_type": "execute_result",
          "data": {
            "text/plain": [
              "array([[0.25260967, 0.13102639, 0.21596007, ..., 0.12782818, 0.09172553,\n",
              "        0.01040277],\n",
              "       [0.25350934, 0.2271456 , 0.12138864, ..., 0.14013225, 0.14065358,\n",
              "        0.01887008],\n",
              "       [0.1256843 , 0.28149217, 0.12203814, ..., 0.22928755, 0.07950082,\n",
              "        0.0088543 ],\n",
              "       ...,\n",
              "       [0.21815757, 0.20690438, 0.15427567, ..., 0.1493864 , 0.09867868,\n",
              "        0.01287725],\n",
              "       [0.48520407, 0.09497063, 0.13583376, ..., 0.2575071 , 0.14270839,\n",
              "        0.03054205],\n",
              "       [0.14194198, 0.1515477 , 0.18994842, ..., 0.15998942, 0.08698082,\n",
              "        0.00868193]], dtype=float32)"
            ]
          },
          "metadata": {
            "tags": []
          },
          "execution_count": 24
        }
      ]
    },
    {
      "cell_type": "code",
      "metadata": {
        "colab_type": "code",
        "id": "5WsQqrmxprsc",
        "outputId": "c06177d1-bd40-4958-b9e7-e558cc1e6e68",
        "colab": {
          "base_uri": "https://localhost:8080/",
          "height": 156
        }
      },
      "source": [
        "# split of classes\n",
        "pd.Series(y.argmax(axis = -1)).value_counts()"
      ],
      "execution_count": 25,
      "outputs": [
        {
          "output_type": "execute_result",
          "data": {
            "text/plain": [
              "0    2184\n",
              "4     672\n",
              "2     427\n",
              "1     353\n",
              "5     295\n",
              "6     146\n",
              "3     117\n",
              "dtype: int64"
            ]
          },
          "metadata": {
            "tags": []
          },
          "execution_count": 25
        }
      ]
    },
    {
      "cell_type": "code",
      "metadata": {
        "colab_type": "code",
        "id": "BmfNQQbrqhhc",
        "colab": {}
      },
      "source": [
        ""
      ],
      "execution_count": 0,
      "outputs": []
    }
  ]
}